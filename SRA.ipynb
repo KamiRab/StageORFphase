{
 "cells": [
  {
   "cell_type": "code",
   "execution_count": 25,
   "outputs": [],
   "source": [
    "import time\n",
    "from selenium import webdriver\n",
    "from selenium.webdriver.support.ui import WebDriverWait\n",
    "from selenium.webdriver.support import expected_conditions as EC\n",
    "from selenium.webdriver.common.by import By\n",
    "from selenium.common.exceptions import TimeoutException\n",
    "from selenium.common.exceptions import NoSuchElementException\n",
    "from selenium.webdriver.common.action_chains import ActionChains\n",
    "from selenium.webdriver.common.keys import Keys"
   ],
   "metadata": {
    "collapsed": false,
    "pycharm": {
     "name": "#%%\n"
    }
   }
  },
  {
   "cell_type": "code",
   "execution_count": 40,
   "metadata": {
    "collapsed": true
   },
   "outputs": [],
   "source": [
    "urlpage = \"http://sysbio.gzzoc.com/rpfdb/browse.html#@Scerevisiae@GSE100626\"\n",
    "driver = webdriver.Firefox()\n",
    "try:\n",
    "    driver.get(urlpage)\n",
    "except TimeoutException:\n",
    "    time.sleep(5)\n",
    "    driver.get(urlpage)\n",
    "\n",
    "dic = {}\n",
    "tabs = driver.find_elements_by_xpath(\"//ul[@id = 'ScerevisiaeStudyNav']/li[contains(@class, 'tab')]/a\")"
   ]
  },
  {
   "cell_type": "code",
   "execution_count": 44,
   "outputs": [],
   "source": [
    "for tab in tabs:\n",
    "    link = tab.get_attribute(\"href\")\n",
    "    ActionChains(driver).move_to_element(tab).send_keys(Keys.ENTER).perform()\n",
    "    tab.click()\n",
    "    time.sleep(3)\n",
    "    WebDriverWait(driver, 10).until(EC.presence_of_element_located((By.ID, \"ScerevisiaeDetail\")))\n",
    "    # WebDriverWait(driver, 10).until(EC.presence_of_all_elements_located)\n",
    "    name = tab.text\n",
    "    if name != driver.find_element_by_xpath(\n",
    "        \"/html/body/div[2]/div/div[2]/div[1]/div[22]/div/div[@id='Scerevisiae_{}_Detail']/table/tbody/tr[2]/td[2]/a\".format(name)).text:\n",
    "        tab.click()\n",
    "        time.sleep(3)\n",
    "\n",
    "    dic[name] = {}\n",
    "    dic[name][\"pmid\"] = driver.find_element_by_xpath(\n",
    "        \"/html/body/div[2]/div/div[2]/div[1]/div[22]/div/div[@id='Scerevisiae_{}_Detail']/table/tbody/tr[2]/td[4]/a\".format(name)).get_attribute(\n",
    "        \"href\")\n",
    "    dic[name][\"accession\"] = driver.find_element_by_xpath(\n",
    "        \"/html/body/div[2]/div/div[2]/div[1]/div[22]/div/div[@id='Scerevisiae_{}_Detail']/table/tbody/tr[2]/td[2]/a\".format(name)).get_attribute(\n",
    "        \"href\")\n",
    "    dic[name][\"title\"] = driver.find_element_by_xpath(\"//div[@id='Scerevisiae_{}_Detail']/table/tbody/tr[1]/td[@colspan ='3']/a\".format(name)).text\n",
    "    # dic[name][\"strain\"] = driver.find_element_by_xpath(\"/html/body/div[2]/div/div[2]/div[1]/div[22]/div/div[@class='tab-pane active']/table/tbody/tr[3]/td[2]\").text.split(\":\")[1]\n",
    "    strain1 = driver.find_element_by_xpath(\n",
    "        \"/html/body/div[2]/div/div[2]/div[1]/div[22]/div/div[@id='Scerevisiae_{}_Detail']/table/tbody/tr[3]/td[2]\".format(name).format(name)).text\n",
    "    strain2 = strain1.split(\":\")\n",
    "    try:\n",
    "        strain3 = strain2[1]\n",
    "    except IndexError:\n",
    "        strain3 = strain2[0]\n",
    "    dic[name][\"strain\"] = strain3\n",
    "\n"
   ],
   "metadata": {
    "collapsed": false,
    "pycharm": {
     "name": "#%%\n"
    }
   }
  },
  {
   "cell_type": "code",
   "execution_count": null,
   "outputs": [],
   "source": [
    "# driver = webdriver.Firefox()\n",
    "for GSE in dic:\n",
    "    url = dic[GSE][\"accession\"]\n",
    "    # pmid = dic[GSE][\"pmid\"]\n",
    "    # strain = dic[GSE][\"strain\"]\n",
    "    try:\n",
    "        driver.get(url)\n",
    "    except TimeoutException:\n",
    "        time.sleep(5)\n",
    "        driver.get(url)\n",
    "    if driver.find_element_by_tag_name(\"body\").get_attribute(\"id\") == \"ui-ncbiexternallink-5\":\n",
    "        try:\n",
    "            url = driver.find_element_by_xpath(\n",
    "                \"//div[@class='rprt']/div[2]/p/a[text()='{}']\".format(dic[GSE][\"title\"])).get_attribute(\"href\")\n",
    "        except NoSuchElementException:\n",
    "            try:\n",
    "                url = driver.find_element_by_xpath(\"//div[@class='rprt']/div[2]/div[@class = 'supp']/p[@class = 'desc'][text()='{}']//ancestor::div[@class = 'rslt']//child::p/a\".format(dic[GSE][\"title\"])).get_attribute(\"href\")\n",
    "            except:\n",
    "                url = \"To look\" + GSE\n",
    "                continue\n",
    "\n",
    "    elif driver.find_element_by_tag_name(\"body\").get_attribute(\"id\") == \"ui-ncbiexternallink-4\":\n",
    "        dic[GSE][\"links\"] = []\n",
    "        continue\n",
    "    if url == \"Not found\":\n",
    "        dic[GSE][\"pubmed\"] = \"Not found\"\n",
    "        dic[GSE][\"desc\"] = \"Not found\"\n",
    "        dic[GSE][\"desc2\"] = \"Not found\"\n",
    "    else:\n",
    "        try:\n",
    "            driver.get(url)\n",
    "        except TimeoutException:\n",
    "            time.sleep(5)\n",
    "            driver.get(url)\n",
    "        try:\n",
    "            dic[GSE][\"pubmed\"] = driver.find_element_by_id(\"PubMed\").get_attribute(\"href\")\n",
    "        except NoSuchElementException:\n",
    "            dic[GSE][\"pubmed\"] = \"not found\"\n",
    "        try:\n",
    "            dic[GSE][\"desc\"] = driver.find_element_by_css_selector(\".Title > h3:nth-child(2)\").text\n",
    "        except NoSuchElementException:\n",
    "            dic[GSE][\"desc\"] = driver.find_element_by_css_selector(\".Title > h2:nth-child(1)\").text\n",
    "        results = driver.find_element_by_id(\"SRA Experiments\").get_attribute(\"href\")\n",
    "        driver.get(results)\n",
    "        try:\n",
    "            driver.find_element_by_css_selector(\n",
    "                \"div.results_settings:nth-child(1) > ul:nth-child(1) > li:nth-child(2) > a:nth-child(1)\").click()\n",
    "            WebDriverWait(driver, 100000).until(\n",
    "                EC.element_to_be_clickable((By.CSS_SELECTOR, \"input[type='radio'][value='200']\")))\n",
    "            driver.find_element_by_css_selector(\"input[type='radio'][value='200']\").click()\n",
    "        except NoSuchElementException :\n",
    "            print(\"One page ? \" + results)\n",
    "            # nr_pages = driver.find_element_by_id(\"pageno\").get_attribute(\"last\")\n",
    "            # print(nr_pages)\n",
    "        next_page = driver.find_elements_by_css_selector(\"div.pagination:nth-child(1) > a:nth-child(4)\")\n",
    "        dic[GSE][\"links\"] = []\n",
    "        try:\n",
    "            dic[GSE][\"links\"] = dic[GSE][\"links\"] + [x.get_attribute(\"href\") for x in driver.find_elements_by_xpath(\"//*[contains(@class, 'title')]/a\")]\n",
    "            while (len(next_page) > 0):\n",
    "                next_page[0].click()\n",
    "                dic[GSE][\"links\"] = dic[GSE][\"links\"] + [x.get_attribute(\"href\") for x in\n",
    "                                 driver.find_elements_by_xpath(\"//*[contains(@class, 'title')]/a\")]\n",
    "                next_page = driver.find_elements_by_css_selector(\"div.pagination:nth-child(1) > a:nth-child(4)\")\n",
    "        except NoSuchElementException:\n",
    "            dic[GSE][\"links\"] = [url]\n"
   ],
   "metadata": {
    "collapsed": false,
    "pycharm": {
     "name": "#%%\n",
     "is_executing": true
    }
   }
  },
  {
   "cell_type": "code",
   "execution_count": 46,
   "outputs": [
    {
     "ename": "KeyError",
     "evalue": "'links'",
     "output_type": "error",
     "traceback": [
      "\u001B[0;31m---------------------------------------------------------------------------\u001B[0m",
      "\u001B[0;31mKeyError\u001B[0m                                  Traceback (most recent call last)",
      "\u001B[0;32m<ipython-input-46-db26de7b54a7>\u001B[0m in \u001B[0;36m<module>\u001B[0;34m\u001B[0m\n\u001B[1;32m      2\u001B[0m     \u001B[0mparser\u001B[0m\u001B[0;34m.\u001B[0m\u001B[0mwrite\u001B[0m\u001B[0;34m(\u001B[0m\u001B[0;34m\"Accession\\tAccession link\\tPMID\\tStrain\\tPubmed\\tdesc\\tdesc2\\tSRA experiments link\\tSRA\\n\"\u001B[0m\u001B[0;34m)\u001B[0m\u001B[0;34m\u001B[0m\u001B[0;34m\u001B[0m\u001B[0m\n\u001B[1;32m      3\u001B[0m     \u001B[0;32mfor\u001B[0m \u001B[0mGSE\u001B[0m \u001B[0;32min\u001B[0m \u001B[0mdic\u001B[0m\u001B[0;34m:\u001B[0m\u001B[0;34m\u001B[0m\u001B[0;34m\u001B[0m\u001B[0m\n\u001B[0;32m----> 4\u001B[0;31m         \u001B[0;32mfor\u001B[0m \u001B[0msra_link\u001B[0m \u001B[0;32min\u001B[0m \u001B[0mdic\u001B[0m\u001B[0;34m[\u001B[0m\u001B[0mGSE\u001B[0m\u001B[0;34m]\u001B[0m\u001B[0;34m[\u001B[0m\u001B[0;34m\"links\"\u001B[0m\u001B[0;34m]\u001B[0m\u001B[0;34m:\u001B[0m\u001B[0;34m\u001B[0m\u001B[0;34m\u001B[0m\u001B[0m\n\u001B[0m\u001B[1;32m      5\u001B[0m             \u001B[0;32mtry\u001B[0m\u001B[0;34m:\u001B[0m\u001B[0;34m\u001B[0m\u001B[0;34m\u001B[0m\u001B[0m\n\u001B[1;32m      6\u001B[0m                 \u001B[0mdriver\u001B[0m\u001B[0;34m.\u001B[0m\u001B[0mget\u001B[0m\u001B[0;34m(\u001B[0m\u001B[0msra_link\u001B[0m\u001B[0;34m)\u001B[0m\u001B[0;34m\u001B[0m\u001B[0;34m\u001B[0m\u001B[0m\n",
      "\u001B[0;31mKeyError\u001B[0m: 'links'"
     ]
    }
   ],
   "source": [
    "with open(\"SRA_parser.tab\",\"w\") as parser:\n",
    "    parser.write(\"Accession\\tAccession link\\tPMID\\tStrain\\tPubmed\\tdesc\\tdesc2\\tSRA experiments link\\tSRA\\n\")\n",
    "    for GSE in dic:\n",
    "        for sra_link in dic[GSE][\"links\"]:\n",
    "            if not sra_link:\n",
    "                continue\n",
    "            try:\n",
    "                driver.get(sra_link)\n",
    "            except TimeoutException:\n",
    "                time.sleep(5)\n",
    "                driver.get(sra_link)\n",
    "            sra = [x.text for x in\n",
    "                   driver.find_elements_by_xpath(\"//a[contains(@href, 'trace.ncbi.nlm.nih.gov/Traces/sra/?run=')]\")]\n",
    "            try:\n",
    "                desc2 = \\\n",
    "                driver.find_elements_by_css_selector(\"div.sra-full-data:nth-child(3) > span:nth-child(1)\")[\n",
    "                    0].text.split(\"\\n\")[0]\n",
    "            except IndexError:\n",
    "                desc2 = \"to look\"\n",
    "            for i in sra:\n",
    "                parser.write(\n",
    "                    \"{}\\t{}\\t{}\\t{}\\t{}\\t{}\\t{}\\t{}\\t{}\\n\".format(GSE,dic[GSE][\"accession\"],dic[GSE][\"pmid\"],\n",
    "                                                                  dic[GSE][\"strain\"] ,dic[GSE][\"pubmed\"],dic[GSE][\"desc\"],\n",
    "                                                                  desc2,sra_link,i))"
   ],
   "metadata": {
    "collapsed": false,
    "pycharm": {
     "name": "#%%\n"
    }
   }
  },
  {
   "cell_type": "code",
   "execution_count": null,
   "outputs": [],
   "source": [],
   "metadata": {
    "collapsed": false,
    "pycharm": {
     "name": "#%%\n"
    }
   }
  }
 ],
 "metadata": {
  "kernelspec": {
   "display_name": "Python 3",
   "language": "python",
   "name": "python3"
  },
  "language_info": {
   "codemirror_mode": {
    "name": "ipython",
    "version": 2
   },
   "file_extension": ".py",
   "mimetype": "text/x-python",
   "name": "python",
   "nbconvert_exporter": "python",
   "pygments_lexer": "ipython2",
   "version": "2.7.6"
  }
 },
 "nbformat": 4,
 "nbformat_minor": 0
}